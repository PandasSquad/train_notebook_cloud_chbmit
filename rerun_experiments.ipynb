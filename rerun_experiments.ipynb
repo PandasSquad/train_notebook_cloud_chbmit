{
 "cells": [
  {
   "cell_type": "markdown",
   "id": "0c2cc21b-c5c1-40a9-b1cd-01bac966a2ab",
   "metadata": {},
   "source": [
    "# Train experiments"
   ]
  },
  {
   "cell_type": "markdown",
   "id": "3943f212-8151-4f63-b28d-4e663388c16b",
   "metadata": {
    "tags": []
   },
   "source": [
    "Nota: se instala por terminal databricks y se configura para usar MLflow de databricks community."
   ]
  },
  {
   "cell_type": "code",
   "execution_count": 1,
   "id": "ce73a129-8700-434c-b46f-0c268eb5d282",
   "metadata": {
    "tags": []
   },
   "outputs": [
    {
     "name": "stderr",
     "output_type": "stream",
     "text": [
      "2024-07-26 00:32:53.541358: I tensorflow/core/platform/cpu_feature_guard.cc:193] This TensorFlow binary is optimized with oneAPI Deep Neural Network Library (oneDNN) to use the following CPU instructions in performance-critical operations:  AVX2 AVX512F FMA\n",
      "To enable them in other operations, rebuild TensorFlow with the appropriate compiler flags.\n",
      "2024-07-26 00:32:53.806729: W tensorflow/compiler/xla/stream_executor/platform/default/dso_loader.cc:64] Could not load dynamic library 'libcudart.so.11.0'; dlerror: libcudart.so.11.0: cannot open shared object file: No such file or directory\n",
      "2024-07-26 00:32:53.806756: I tensorflow/compiler/xla/stream_executor/cuda/cudart_stub.cc:29] Ignore above cudart dlerror if you do not have a GPU set up on your machine.\n",
      "2024-07-26 00:32:55.001953: W tensorflow/compiler/xla/stream_executor/platform/default/dso_loader.cc:64] Could not load dynamic library 'libnvinfer.so.7'; dlerror: libnvinfer.so.7: cannot open shared object file: No such file or directory\n",
      "2024-07-26 00:32:55.002046: W tensorflow/compiler/xla/stream_executor/platform/default/dso_loader.cc:64] Could not load dynamic library 'libnvinfer_plugin.so.7'; dlerror: libnvinfer_plugin.so.7: cannot open shared object file: No such file or directory\n",
      "2024-07-26 00:32:55.002056: W tensorflow/compiler/tf2tensorrt/utils/py_utils.cc:38] TF-TRT Warning: Cannot dlopen some TensorRT libraries. If you would like to use Nvidia GPU with TensorRT, please make sure the missing libraries mentioned above are installed properly.\n"
     ]
    }
   ],
   "source": [
    "import tensorflow as tf\n",
    "import pandas as pd\n",
    "import numpy as np\n",
    "import os\n",
    "from sklearn.preprocessing import StandardScaler\n",
    "from sklearn.utils import class_weight\n",
    "from sklearn.model_selection import train_test_split"
   ]
  },
  {
   "cell_type": "code",
   "execution_count": 7,
   "id": "2139b2fb-44a5-458b-b48c-91b665c7708f",
   "metadata": {
    "tags": []
   },
   "outputs": [
    {
     "data": {
      "text/plain": [
       "[PhysicalDevice(name='/physical_device:CPU:0', device_type='CPU'),\n",
       " PhysicalDevice(name='/physical_device:GPU:0', device_type='GPU')]"
      ]
     },
     "execution_count": 7,
     "metadata": {},
     "output_type": "execute_result"
    }
   ],
   "source": [
    "tf.config.list_physical_devices()"
   ]
  },
  {
   "cell_type": "code",
   "execution_count": null,
   "id": "fee1786f-e719-42ed-83bd-2ac1108ec338",
   "metadata": {
    "tags": []
   },
   "outputs": [],
   "source": [
    "def load_and_preprocess_file(file_path, scaler=None):\n",
    "    df = pd.read_parquet(file_path)\n",
    "    data = df.values\n",
    "    if scaler:\n",
    "        data = scaler.transform(data.reshape(-1, data.shape[-1])).reshape(data.shape)\n",
    "    return data\n",
    "\n",
    "def data_generator(file_paths, labels, batch_size, scaler=None):\n",
    "    while True:\n",
    "        for start in range(0, len(file_paths), batch_size):\n",
    "            end = min(start + batch_size, len(file_paths))\n",
    "            batch_files = file_paths[start:end]\n",
    "            batch_labels = labels[start:end]\n",
    "            \n",
    "            batch_data = [load_and_preprocess_file(f, scaler) for f in batch_files]\n",
    "            batch_data = np.array(batch_data)\n",
    "            \n",
    "            yield batch_data, np.array(batch_labels)\n",
    "\n",
    "def get_label_for_file(file):\n",
    "    label = file.split(\"_\")[2]\n",
    "    label_dict = {\n",
    "        \"prepreictal\": 1,\n",
    "        \"preictal\": 1,\n",
    "        \"ictal\": 0,\n",
    "        \"interictal\": 0,\n",
    "    }\n",
    "    \n",
    "    return label_dict[label]\n",
    "\n",
    "FOLDER = \"windows_per_parquet\"\n",
    "\n",
    "print(\"Reading files\")\n",
    "file_paths = [os.path.join(FOLDER, file) for file in os.listdir(FOLDER) if file.endswith('.parquet')]\n",
    "labels = [get_label_for_file(file) for file in os.listdir(FOLDER) if file.endswith('.parquet')]\n",
    "\n",
    "file_paths_train, file_paths_test, y_train, y_test = train_test_split(file_paths, labels, test_size=0.2, stratify=labels, random_state=42)\n",
    "\n",
    "class_weights = class_weight.compute_class_weight('balanced', classes=np.unique(y_train), y=y_train)\n",
    "class_weights = dict(enumerate(class_weights))\n",
    "\n",
    "scaler = StandardScaler()\n",
    "\n",
    "print(\"Fit scaler\")\n",
    "sample_data = []\n",
    "for file_path in file_paths_train:\n",
    "    sample_data.append(load_and_preprocess_file(file_path))\n",
    "sample_data = np.array(sample_data).reshape(-1, sample_data[0].shape[-1])\n",
    "scaler.fit(sample_data)\n",
    "\n",
    "batch_size = 32\n",
    "\n",
    "train_gen = data_generator(file_paths_train, y_train, batch_size, scaler)\n",
    "test_gen = data_generator(file_paths_test, y_test, batch_size, scaler)\n",
    "\n",
    "steps_per_epoch = len(file_paths_train) // batch_size\n",
    "validation_steps = len(file_paths_test) // batch_size"
   ]
  },
  {
   "cell_type": "code",
   "execution_count": null,
   "id": "acccb6c9-3a0f-4f42-9db5-3cedefc65d20",
   "metadata": {},
   "outputs": [],
   "source": [
    "n_classes_train = 4\n",
    "\n",
    "def create_model():\n",
    "    model = tf.keras.Sequential([\n",
    "        tf.keras.layers.InputLayer(input_shape=(15360, 22)),\n",
    "        tf.keras.layers.Conv1D(filters=64, kernel_size=3, activation='relu'),\n",
    "        tf.keras.layers.MaxPooling1D(pool_size=2),\n",
    "        tf.keras.layers.Flatten(),\n",
    "        tf.keras.layers.Dense(128, activation='relu', kernel_regularizer=l2(0.001)),  # Regularización L2\n",
    "        tf.keras.layers.Dense(n_classes_train, activation='softmax')\n",
    "    ])\n",
    "    \n",
    "    model.compile(optimizer='adam', loss='sparse_categorical_crossentropy', metrics=['accuracy'])\n",
    "    return model\n",
    "\n",
    "\n",
    "early_stopping_callback = tf.keras.callbacks.EarlyStopping(\n",
    "    monitor='val_loss',\n",
    "    patience=8,\n",
    "    restore_best_weights=True\n",
    ")"
   ]
  },
  {
   "cell_type": "code",
   "execution_count": 12,
   "id": "561d551c-099c-47dc-a003-c658267539bf",
   "metadata": {},
   "outputs": [
    {
     "name": "stdout",
     "output_type": "stream",
     "text": [
      "Epoch 1/50\n",
      "97/97 [==============================] - 52s 464ms/step - loss: 37.1207 - accuracy: 0.2120 - val_loss: 10.8099 - val_accuracy: 0.1315\n",
      "Epoch 2/50\n",
      "97/97 [==============================] - 33s 344ms/step - loss: 6.2108 - accuracy: 0.3904 - val_loss: 3.9456 - val_accuracy: 0.2917\n",
      "Epoch 3/50\n",
      "97/97 [==============================] - 32s 336ms/step - loss: 1.8257 - accuracy: 0.5416 - val_loss: 5.2251 - val_accuracy: 0.1797\n",
      "Epoch 4/50\n",
      "97/97 [==============================] - 32s 333ms/step - loss: 0.9947 - accuracy: 0.6578 - val_loss: 3.8199 - val_accuracy: 0.2448\n",
      "Epoch 5/50\n",
      "97/97 [==============================] - 32s 334ms/step - loss: 0.4718 - accuracy: 0.7443 - val_loss: 2.6876 - val_accuracy: 0.5859\n",
      "Epoch 6/50\n",
      "97/97 [==============================] - 32s 333ms/step - loss: 0.3825 - accuracy: 0.7755 - val_loss: 2.8097 - val_accuracy: 0.5859\n",
      "Epoch 7/50\n",
      "97/97 [==============================] - 31s 324ms/step - loss: 0.2234 - accuracy: 0.8546 - val_loss: 2.6562 - val_accuracy: 0.5885\n",
      "Epoch 8/50\n",
      "97/97 [==============================] - 32s 328ms/step - loss: 0.1223 - accuracy: 0.9470 - val_loss: 2.7705 - val_accuracy: 0.3997\n",
      "Epoch 9/50\n",
      "97/97 [==============================] - 32s 329ms/step - loss: 0.0896 - accuracy: 0.9789 - val_loss: 2.5404 - val_accuracy: 0.5755\n",
      "Epoch 10/50\n",
      "97/97 [==============================] - 31s 323ms/step - loss: 0.0702 - accuracy: 0.9880 - val_loss: 2.6673 - val_accuracy: 0.5924\n",
      "Epoch 11/50\n",
      "97/97 [==============================] - 32s 338ms/step - loss: 0.0589 - accuracy: 0.9925 - val_loss: 2.8033 - val_accuracy: 0.5990\n",
      "Epoch 12/50\n",
      "97/97 [==============================] - 33s 341ms/step - loss: 0.0509 - accuracy: 0.9974 - val_loss: 2.9055 - val_accuracy: 0.6042\n",
      "Epoch 13/50\n",
      "97/97 [==============================] - 31s 324ms/step - loss: 0.0430 - accuracy: 0.9987 - val_loss: 3.0028 - val_accuracy: 0.6159\n",
      "Epoch 14/50\n",
      "97/97 [==============================] - 31s 323ms/step - loss: 0.0366 - accuracy: 0.9990 - val_loss: 3.1130 - val_accuracy: 0.6289\n",
      "Epoch 15/50\n",
      "97/97 [==============================] - 31s 322ms/step - loss: 0.0316 - accuracy: 0.9990 - val_loss: 3.2028 - val_accuracy: 0.6263\n",
      "Epoch 16/50\n",
      "97/97 [==============================] - 32s 334ms/step - loss: 0.0264 - accuracy: 1.0000 - val_loss: 3.2980 - val_accuracy: 0.6341\n",
      "Epoch 17/50\n",
      "97/97 [==============================] - 31s 323ms/step - loss: 0.0225 - accuracy: 1.0000 - val_loss: 3.4007 - val_accuracy: 0.6367\n",
      "Epoch 18/50\n",
      "97/97 [==============================] - 31s 325ms/step - loss: 0.0185 - accuracy: 1.0000 - val_loss: 3.4492 - val_accuracy: 0.6367\n",
      "Epoch 19/50\n",
      "97/97 [==============================] - 31s 323ms/step - loss: 0.0152 - accuracy: 1.0000 - val_loss: 3.6052 - val_accuracy: 0.6406\n",
      "Epoch 20/50\n",
      "97/97 [==============================] - 32s 338ms/step - loss: 0.0127 - accuracy: 1.0000 - val_loss: 3.6991 - val_accuracy: 0.6445\n",
      "Epoch 21/50\n",
      "97/97 [==============================] - 32s 334ms/step - loss: 0.0106 - accuracy: 1.0000 - val_loss: 3.7980 - val_accuracy: 0.6484\n",
      "Epoch 22/50\n",
      "97/97 [==============================] - 32s 328ms/step - loss: 0.0088 - accuracy: 1.0000 - val_loss: 3.8196 - val_accuracy: 0.6484\n",
      "Epoch 23/50\n",
      "97/97 [==============================] - 31s 326ms/step - loss: 0.0330 - accuracy: 0.9906 - val_loss: 3.4915 - val_accuracy: 0.6367\n",
      "Epoch 24/50\n",
      "97/97 [==============================] - 32s 332ms/step - loss: 0.0226 - accuracy: 0.9977 - val_loss: 3.6810 - val_accuracy: 0.6380\n",
      "Epoch 25/50\n",
      "97/97 [==============================] - 32s 333ms/step - loss: 0.0100 - accuracy: 1.0000 - val_loss: 3.6689 - val_accuracy: 0.6393\n",
      "Epoch 26/50\n",
      "97/97 [==============================] - 32s 330ms/step - loss: 0.0086 - accuracy: 1.0000 - val_loss: 3.5958 - val_accuracy: 0.6380\n",
      "Epoch 27/50\n",
      "97/97 [==============================] - 32s 335ms/step - loss: 0.0073 - accuracy: 1.0000 - val_loss: 3.5471 - val_accuracy: 0.6341\n",
      "Epoch 28/50\n",
      "97/97 [==============================] - 32s 337ms/step - loss: 0.0063 - accuracy: 1.0000 - val_loss: 3.5091 - val_accuracy: 0.6289\n",
      "Epoch 29/50\n",
      "97/97 [==============================] - 33s 339ms/step - loss: 0.0055 - accuracy: 1.0000 - val_loss: 3.4718 - val_accuracy: 0.6237\n",
      "Epoch 30/50\n",
      "97/97 [==============================] - 32s 329ms/step - loss: 0.0048 - accuracy: 1.0000 - val_loss: 3.4517 - val_accuracy: 0.6237\n",
      "Epoch 31/50\n",
      "97/97 [==============================] - 32s 337ms/step - loss: 0.0043 - accuracy: 1.0000 - val_loss: 3.4432 - val_accuracy: 0.6224\n",
      "Epoch 32/50\n",
      "97/97 [==============================] - 32s 329ms/step - loss: 0.0038 - accuracy: 1.0000 - val_loss: 3.4464 - val_accuracy: 0.6211\n",
      "Epoch 33/50\n",
      "97/97 [==============================] - 32s 330ms/step - loss: 0.0033 - accuracy: 1.0000 - val_loss: 3.4612 - val_accuracy: 0.6198\n",
      "Epoch 34/50\n",
      "97/97 [==============================] - 32s 336ms/step - loss: 0.0030 - accuracy: 1.0000 - val_loss: 3.4869 - val_accuracy: 0.6198\n",
      "Epoch 35/50\n",
      "97/97 [==============================] - 32s 335ms/step - loss: 0.0027 - accuracy: 1.0000 - val_loss: 3.5184 - val_accuracy: 0.6250\n",
      "Epoch 36/50\n",
      "97/97 [==============================] - 33s 342ms/step - loss: 0.0024 - accuracy: 1.0000 - val_loss: 3.5558 - val_accuracy: 0.6263\n",
      "Epoch 37/50\n",
      "97/97 [==============================] - 32s 337ms/step - loss: 0.0022 - accuracy: 1.0000 - val_loss: 3.5976 - val_accuracy: 0.6263\n",
      "Epoch 38/50\n",
      "97/97 [==============================] - 33s 339ms/step - loss: 0.0020 - accuracy: 1.0000 - val_loss: 3.6458 - val_accuracy: 0.6263\n",
      "Epoch 39/50\n",
      "97/97 [==============================] - 32s 335ms/step - loss: 0.0018 - accuracy: 1.0000 - val_loss: 3.6942 - val_accuracy: 0.6328\n",
      "Epoch 40/50\n",
      "97/97 [==============================] - 32s 332ms/step - loss: 0.0016 - accuracy: 1.0000 - val_loss: 3.7423 - val_accuracy: 0.6276\n",
      "Epoch 41/50\n",
      "97/97 [==============================] - 32s 333ms/step - loss: 0.0014 - accuracy: 1.0000 - val_loss: 3.7877 - val_accuracy: 0.6289\n",
      "Epoch 42/50\n",
      "97/97 [==============================] - 32s 329ms/step - loss: 0.0013 - accuracy: 1.0000 - val_loss: 3.8290 - val_accuracy: 0.6276\n",
      "Epoch 43/50\n",
      "97/97 [==============================] - 32s 335ms/step - loss: 0.0012 - accuracy: 1.0000 - val_loss: 3.8619 - val_accuracy: 0.6276\n",
      "Epoch 44/50\n",
      "97/97 [==============================] - 32s 332ms/step - loss: 0.0011 - accuracy: 1.0000 - val_loss: 3.8943 - val_accuracy: 0.6289\n",
      "Epoch 45/50\n",
      "97/97 [==============================] - 32s 329ms/step - loss: 0.0010 - accuracy: 1.0000 - val_loss: 3.9204 - val_accuracy: 0.6289\n",
      "Epoch 46/50\n",
      "97/97 [==============================] - 32s 332ms/step - loss: 9.3058e-04 - accuracy: 1.0000 - val_loss: 3.9456 - val_accuracy: 0.6289\n",
      "Epoch 47/50\n",
      "97/97 [==============================] - 31s 325ms/step - loss: 8.5723e-04 - accuracy: 1.0000 - val_loss: 3.9629 - val_accuracy: 0.6289\n",
      "Epoch 48/50\n",
      "97/97 [==============================] - 31s 323ms/step - loss: 7.9094e-04 - accuracy: 1.0000 - val_loss: 3.9785 - val_accuracy: 0.6315\n",
      "Epoch 49/50\n",
      "97/97 [==============================] - 32s 332ms/step - loss: 7.1861e-04 - accuracy: 1.0000 - val_loss: 3.9949 - val_accuracy: 0.6328\n",
      "Epoch 50/50\n",
      "97/97 [==============================] - 32s 333ms/step - loss: 6.7620e-04 - accuracy: 1.0000 - val_loss: 4.0073 - val_accuracy: 0.6328\n",
      "24/24 [==============================] - 6s 261ms/step - loss: 4.0073 - accuracy: 0.6328\n",
      "Test accuracy: 0.6328125\n"
     ]
    }
   ],
   "source": [
    "model = create_model()\n",
    "\n",
    "history = model.fit(\n",
    "    train_gen,\n",
    "    steps_per_epoch=steps_per_epoch,\n",
    "    epochs=50,\n",
    "    validation_data=test_gen,\n",
    "    validation_steps=validation_steps,\n",
    "    class_weight=class_weights,\n",
    "    callbacks=[early_stopping_callback]\n",
    ")\n",
    "\n",
    "# Evaluación del modelo\n",
    "test_loss, test_acc = model.evaluate(test_gen, steps=validation_steps)\n",
    "print(f'Test accuracy: {test_acc}')\n"
   ]
  },
  {
   "cell_type": "code",
   "execution_count": null,
   "id": "54d5f3af-cba4-42a0-88d0-259088ab19de",
   "metadata": {},
   "outputs": [],
   "source": [
    "mlflow.keras.log_model(model, \"model\")"
   ]
  },
  {
   "cell_type": "code",
   "execution_count": 129,
   "id": "781fd508-8e34-4d99-8984-3447c3d2c5fd",
   "metadata": {
    "tags": []
   },
   "outputs": [
    {
     "name": "stdout",
     "output_type": "stream",
     "text": [
      "1/1 [==============================] - 0s 231ms/step\n",
      "1/1 [==============================] - 0s 214ms/step\n",
      "1/1 [==============================] - 0s 265ms/step\n",
      "1/1 [==============================] - 0s 238ms/step\n",
      "1/1 [==============================] - 0s 255ms/step\n",
      "1/1 [==============================] - 0s 234ms/step\n",
      "1/1 [==============================] - 0s 256ms/step\n",
      "1/1 [==============================] - 0s 267ms/step\n",
      "1/1 [==============================] - 0s 282ms/step\n",
      "1/1 [==============================] - 0s 218ms/step\n",
      "1/1 [==============================] - 0s 224ms/step\n",
      "1/1 [==============================] - 0s 207ms/step\n",
      "1/1 [==============================] - 0s 197ms/step\n",
      "1/1 [==============================] - 0s 194ms/step\n",
      "1/1 [==============================] - 0s 202ms/step\n",
      "1/1 [==============================] - 0s 285ms/step\n",
      "1/1 [==============================] - 0s 273ms/step\n",
      "1/1 [==============================] - 0s 242ms/step\n",
      "1/1 [==============================] - 0s 221ms/step\n",
      "1/1 [==============================] - 0s 225ms/step\n",
      "1/1 [==============================] - 0s 203ms/step\n",
      "1/1 [==============================] - 0s 213ms/step\n",
      "1/1 [==============================] - 0s 228ms/step\n",
      "1/1 [==============================] - 0s 141ms/step\n",
      "1/1 [==============================] - 0s 249ms/step\n"
     ]
    },
    {
     "data": {
      "image/png": "[encoded data removed]",
      "text/plain": [
       "<Figure size 1000x700 with 2 Axes>"
      ]
     },
     "metadata": {},
     "output_type": "display_data"
    }
   ],
   "source": [
    "from sklearn.metrics import confusion_matrix\n",
    "import seaborn as sns\n",
    "import matplotlib.pyplot as plt\n",
    "\n",
    "y_pred = []\n",
    "y_true = []\n",
    "filenames_test = []\n",
    "\n",
    "for i in range(validation_steps+1):\n",
    "    filenames_test.extend(file_paths_test[batch_size*i:batch_size*(i+1)])\n",
    "    X_batch, y_batch = next(test_gen)\n",
    "    y_true.extend(y_batch)\n",
    "    y_pred_batch = np.argmax(model.predict(X_batch), axis=-1)\n",
    "    y_pred.extend(y_pred_batch)\n",
    "\n",
    "conf_matrix = confusion_matrix(y_true, y_pred)\n",
    "\n",
    "plt.figure(figsize=(10, 7))\n",
    "sns.heatmap(conf_matrix, annot=True, fmt='d', cmap='Blues')\n",
    "plt.xlabel('Predicted')\n",
    "plt.ylabel('True')\n",
    "plt.title('Confusion Matrix')\n",
    "plt.savefig(\"cnn1d/cm_1.jpg\")\n",
    "plt.show()\n"
   ]
  },
  {
   "cell_type": "code",
   "execution_count": 19,
   "id": "af261c22-e26d-4ded-a5e2-7ce7321b190e",
   "metadata": {
    "tags": []
   },
   "outputs": [],
   "source": [
    "model.save('modelo_1.h5')"
   ]
  },
  {
   "cell_type": "markdown",
   "id": "a2b6a52e-8fa9-4c8d-86b9-fa5e9d3eb4d4",
   "metadata": {},
   "source": [
    "## Métricas"
   ]
  },
  {
   "cell_type": "code",
   "execution_count": 27,
   "id": "43be1cbf-6f52-49fd-b869-8ccf21d3bf67",
   "metadata": {
    "tags": []
   },
   "outputs": [
    {
     "name": "stdout",
     "output_type": "stream",
     "text": [
      "Model: \"sequential_2\"\n",
      "_________________________________________________________________\n",
      " Layer (type)                Output Shape              Param #   \n",
      "=================================================================\n",
      " conv1d_2 (Conv1D)           (None, 15358, 64)         4288      \n",
      "                                                                 \n",
      " max_pooling1d_2 (MaxPooling  (None, 7679, 64)         0         \n",
      " 1D)                                                             \n",
      "                                                                 \n",
      " flatten_2 (Flatten)         (None, 491456)            0         \n",
      "                                                                 \n",
      " dense_4 (Dense)             (None, 128)               62906496  \n",
      "                                                                 \n",
      " dense_5 (Dense)             (None, 4)                 516       \n",
      "                                                                 \n",
      "=================================================================\n",
      "Total params: 62,911,300\n",
      "Trainable params: 62,911,300\n",
      "Non-trainable params: 0\n",
      "_________________________________________________________________\n"
     ]
    }
   ],
   "source": [
    "import tensorflow as tf\n",
    "\n",
    "\n",
    "\n",
    "model = tf.keras.models.load_model('cnn1d/modelo_1.h5')\n",
    "\n",
    "# Mostrar un resumen del modelo para confirmar que se cargó correctamente\n",
    "model.summary()"
   ]
  },
  {
   "cell_type": "code",
   "execution_count": 6,
   "id": "6ecb5b85-ce07-40b7-aa87-4b7817db5e78",
   "metadata": {
    "tags": []
   },
   "outputs": [
    {
     "name": "stdout",
     "output_type": "stream",
     "text": [
      "Classification Report:\n",
      "              precision    recall  f1-score   support\n",
      "\n",
      "           0       0.23      0.09      0.13       107\n",
      "           1       0.27      0.12      0.17       134\n",
      "           2       0.56      0.19      0.28        27\n",
      "           3       0.69      0.90      0.78       509\n",
      "\n",
      "    accuracy                           0.63       777\n",
      "   macro avg       0.44      0.33      0.34       777\n",
      "weighted avg       0.55      0.63      0.57       777\n",
      "\n",
      "Accuracy: 0.6319\n",
      "Precision: 0.5505\n",
      "Recall: 0.6319\n",
      "F1 Score: 0.5698\n"
     ]
    }
   ],
   "source": [
    "from sklearn.metrics import classification_report, accuracy_score, precision_score, recall_score, f1_score\n",
    "\n",
    "# Calcular y mostrar el classification report\n",
    "class_report = classification_report(y_true, y_pred)\n",
    "print(\"Classification Report:\")\n",
    "print(class_report)\n",
    "\n",
    "# Calcular otras métricas\n",
    "accuracy = accuracy_score(y_true, y_pred)\n",
    "precision = precision_score(y_true, y_pred, average='weighted')\n",
    "recall = recall_score(y_true, y_pred, average='weighted')\n",
    "f1 = f1_score(y_true, y_pred, average='weighted')\n",
    "\n",
    "print(f\"Accuracy: {accuracy:.4f}\")\n",
    "print(f\"Precision: {precision:.4f}\")\n",
    "print(f\"Recall: {recall:.4f}\")\n",
    "print(f\"F1 Score: {f1:.4f}\")"
   ]
  },
  {
   "cell_type": "code",
   "execution_count": 145,
   "id": "ad695443-0832-4e45-b7cf-fca2a2af36fe",
   "metadata": {
    "tags": []
   },
   "outputs": [
    {
     "data": {
      "text/html": [
       "<div>\n",
       "<style scoped>\n",
       "    .dataframe tbody tr th:only-of-type {\n",
       "        vertical-align: middle;\n",
       "    }\n",
       "\n",
       "    .dataframe tbody tr th {\n",
       "        vertical-align: top;\n",
       "    }\n",
       "\n",
       "    .dataframe thead th {\n",
       "        text-align: right;\n",
       "    }\n",
       "</style>\n",
       "<table border=\"1\" class=\"dataframe\">\n",
       "  <thead>\n",
       "    <tr style=\"text-align: right;\">\n",
       "      <th></th>\n",
       "      <th>filename</th>\n",
       "      <th>y</th>\n",
       "      <th>y_pred</th>\n",
       "      <th>patient</th>\n",
       "      <th>preictal_true</th>\n",
       "      <th>preictal_pred</th>\n",
       "    </tr>\n",
       "  </thead>\n",
       "  <tbody>\n",
       "    <tr>\n",
       "      <th>0</th>\n",
       "      <td>windows_per_parquet/chb20_29_interictal_2.parquet</td>\n",
       "      <td>1</td>\n",
       "      <td>3</td>\n",
       "      <td>chb20</td>\n",
       "      <td>True</td>\n",
       "      <td>False</td>\n",
       "    </tr>\n",
       "    <tr>\n",
       "      <th>1</th>\n",
       "      <td>windows_per_parquet/chb21_18_interictal_2.parquet</td>\n",
       "      <td>0</td>\n",
       "      <td>3</td>\n",
       "      <td>chb21</td>\n",
       "      <td>True</td>\n",
       "      <td>False</td>\n",
       "    </tr>\n",
       "    <tr>\n",
       "      <th>2</th>\n",
       "      <td>windows_per_parquet/chb21_28_interictal_0.parquet</td>\n",
       "      <td>3</td>\n",
       "      <td>3</td>\n",
       "      <td>chb21</td>\n",
       "      <td>False</td>\n",
       "      <td>False</td>\n",
       "    </tr>\n",
       "    <tr>\n",
       "      <th>3</th>\n",
       "      <td>windows_per_parquet/chb02_20_interictal_4.parquet</td>\n",
       "      <td>2</td>\n",
       "      <td>1</td>\n",
       "      <td>chb02</td>\n",
       "      <td>False</td>\n",
       "      <td>True</td>\n",
       "    </tr>\n",
       "    <tr>\n",
       "      <th>4</th>\n",
       "      <td>windows_per_parquet/chb21_19_ictal_0.parquet</td>\n",
       "      <td>1</td>\n",
       "      <td>3</td>\n",
       "      <td>chb21</td>\n",
       "      <td>True</td>\n",
       "      <td>False</td>\n",
       "    </tr>\n",
       "    <tr>\n",
       "      <th>...</th>\n",
       "      <td>...</td>\n",
       "      <td>...</td>\n",
       "      <td>...</td>\n",
       "      <td>...</td>\n",
       "      <td>...</td>\n",
       "      <td>...</td>\n",
       "    </tr>\n",
       "    <tr>\n",
       "      <th>772</th>\n",
       "      <td>windows_per_parquet/chb24_13_preictal_4.parquet</td>\n",
       "      <td>3</td>\n",
       "      <td>3</td>\n",
       "      <td>chb24</td>\n",
       "      <td>False</td>\n",
       "      <td>False</td>\n",
       "    </tr>\n",
       "    <tr>\n",
       "      <th>773</th>\n",
       "      <td>windows_per_parquet/chb15_05_interictal_4.parquet</td>\n",
       "      <td>3</td>\n",
       "      <td>3</td>\n",
       "      <td>chb15</td>\n",
       "      <td>False</td>\n",
       "      <td>False</td>\n",
       "    </tr>\n",
       "    <tr>\n",
       "      <th>774</th>\n",
       "      <td>windows_per_parquet/chb20_28_interictal_3.parquet</td>\n",
       "      <td>1</td>\n",
       "      <td>3</td>\n",
       "      <td>chb20</td>\n",
       "      <td>True</td>\n",
       "      <td>False</td>\n",
       "    </tr>\n",
       "    <tr>\n",
       "      <th>775</th>\n",
       "      <td>windows_per_parquet/chb03_17_interictal_3.parquet</td>\n",
       "      <td>3</td>\n",
       "      <td>3</td>\n",
       "      <td>chb03</td>\n",
       "      <td>False</td>\n",
       "      <td>False</td>\n",
       "    </tr>\n",
       "    <tr>\n",
       "      <th>776</th>\n",
       "      <td>windows_per_parquet/chb19_24_interictal_4.parquet</td>\n",
       "      <td>3</td>\n",
       "      <td>3</td>\n",
       "      <td>chb19</td>\n",
       "      <td>False</td>\n",
       "      <td>False</td>\n",
       "    </tr>\n",
       "  </tbody>\n",
       "</table>\n",
       "<p>777 rows × 6 columns</p>\n",
       "</div>"
      ],
      "text/plain": [
       "                                              filename  y  y_pred patient  \\\n",
       "0    windows_per_parquet/chb20_29_interictal_2.parquet  1       3   chb20   \n",
       "1    windows_per_parquet/chb21_18_interictal_2.parquet  0       3   chb21   \n",
       "2    windows_per_parquet/chb21_28_interictal_0.parquet  3       3   chb21   \n",
       "3    windows_per_parquet/chb02_20_interictal_4.parquet  2       1   chb02   \n",
       "4         windows_per_parquet/chb21_19_ictal_0.parquet  1       3   chb21   \n",
       "..                                                 ... ..     ...     ...   \n",
       "772    windows_per_parquet/chb24_13_preictal_4.parquet  3       3   chb24   \n",
       "773  windows_per_parquet/chb15_05_interictal_4.parquet  3       3   chb15   \n",
       "774  windows_per_parquet/chb20_28_interictal_3.parquet  1       3   chb20   \n",
       "775  windows_per_parquet/chb03_17_interictal_3.parquet  3       3   chb03   \n",
       "776  windows_per_parquet/chb19_24_interictal_4.parquet  3       3   chb19   \n",
       "\n",
       "     preictal_true  preictal_pred  \n",
       "0             True          False  \n",
       "1             True          False  \n",
       "2            False          False  \n",
       "3            False           True  \n",
       "4             True          False  \n",
       "..             ...            ...  \n",
       "772          False          False  \n",
       "773          False          False  \n",
       "774           True          False  \n",
       "775          False          False  \n",
       "776          False          False  \n",
       "\n",
       "[777 rows x 6 columns]"
      ]
     },
     "execution_count": 145,
     "metadata": {},
     "output_type": "execute_result"
    }
   ],
   "source": [
    "import pandas as pd\n",
    "\n",
    "results_test = pd.DataFrame({\"filename\": filenames_test})\n",
    "results_test[\"y\"] = y_true\n",
    "results_test[\"y_pred\"] = y_pred\n",
    "\n",
    "results_test[\"patient\"] = results_test[\"filename\"].apply(lambda x: x.split(\"_\")[2].split(\"/\")[-1])\n",
    "\n",
    "results_test[\"preictal_true\"] = results_test[\"y\"].apply(lambda x: x in (0, 1))\n",
    "results_test[\"preictal_pred\"] = results_test[\"y_pred\"].apply(lambda x: x in (0, 1))\n",
    "\n",
    "# there are some chb17a, chb17b, etc. we rename those to chb17\n",
    "chb_indexes = results_test.query(\"patient.str.startswith('chb17')\").index\n",
    "results_test.loc[chb_indexes, \"patient\"] = \"chb17\"\n",
    "\n",
    "results_test"
   ]
  },
  {
   "cell_type": "code",
   "execution_count": 146,
   "id": "22ea9454-b472-430b-a49d-fd1e0b17ae2b",
   "metadata": {
    "tags": []
   },
   "outputs": [
    {
     "data": {
      "text/plain": [
       "preictal_true\n",
       "False    536\n",
       "True     241\n",
       "Name: count, dtype: int64"
      ]
     },
     "execution_count": 146,
     "metadata": {},
     "output_type": "execute_result"
    }
   ],
   "source": [
    "results_test.preictal_true.value_counts()"
   ]
  },
  {
   "cell_type": "code",
   "execution_count": 151,
   "id": "05bfd913-e298-4469-8ddf-471023267d86",
   "metadata": {
    "tags": []
   },
   "outputs": [
    {
     "data": {
      "text/plain": [
       "count    24.000000\n",
       "mean     32.375000\n",
       "std      11.099599\n",
       "min      13.000000\n",
       "25%      24.250000\n",
       "50%      30.500000\n",
       "75%      41.250000\n",
       "max      54.000000\n",
       "Name: count, dtype: float64"
      ]
     },
     "execution_count": 151,
     "metadata": {},
     "output_type": "execute_result"
    }
   ],
   "source": [
    "results_test.patient.value_counts().describe()"
   ]
  },
  {
   "cell_type": "code",
   "execution_count": 143,
   "id": "5e89f0dd-9f3c-44a0-ae59-9a061d6eabca",
   "metadata": {
    "tags": []
   },
   "outputs": [
    {
     "data": {
      "text/plain": [
       "(Counter({1: 241, 0: 536}), Counter({0: 674, 1: 103}))"
      ]
     },
     "execution_count": 143,
     "metadata": {},
     "output_type": "execute_result"
    }
   ],
   "source": [
    "from collections import Counter\n",
    "\n",
    "Counter(y_true_new), Counter(y_pred_new)"
   ]
  },
  {
   "cell_type": "code",
   "execution_count": 152,
   "id": "5251a357-c666-4a22-8ba8-1a335b058ec2",
   "metadata": {
    "tags": []
   },
   "outputs": [
    {
     "data": {
      "text/plain": [
       "<Axes: xlabel='patient'>"
      ]
     },
     "execution_count": 152,
     "metadata": {},
     "output_type": "execute_result"
    },
    {
     "data": {
      "image/png": "[encoded data removed]",
      "text/plain": [
       "<Figure size 640x480 with 1 Axes>"
      ]
     },
     "metadata": {},
     "output_type": "display_data"
    }
   ],
   "source": [
    "results_test[[\"patient\", \"preictal_true\"]].value_counts().unstack().plot(kind=\"bar\")"
   ]
  },
  {
   "cell_type": "code",
   "execution_count": 153,
   "id": "ec5496b2-758f-4e3d-b1dd-bf00beebb8b8",
   "metadata": {
    "tags": []
   },
   "outputs": [],
   "source": [
    "results_test.to_csv(\"cnn1d/resultados_test_1.csv\", index=False)"
   ]
  },
  {
   "cell_type": "code",
   "execution_count": 154,
   "id": "51151261-3829-447f-9814-faeb72049de6",
   "metadata": {
    "tags": []
   },
   "outputs": [
    {
     "name": "stdout",
     "output_type": "stream",
     "text": [
      "Classification Report:\n",
      "              precision    recall  f1-score   support\n",
      "\n",
      "       False       0.72      0.90      0.80       536\n",
      "        True       0.50      0.22      0.30       241\n",
      "\n",
      "    accuracy                           0.69       777\n",
      "   macro avg       0.61      0.56      0.55       777\n",
      "weighted avg       0.65      0.69      0.65       777\n",
      "\n",
      "Accuracy: 0.6911\n",
      "Precision: 0.6530\n",
      "Recall: 0.6911\n",
      "F1 Score: 0.6468\n"
     ]
    }
   ],
   "source": [
    "from sklearn.metrics import classification_report, accuracy_score, precision_score, recall_score, f1_score\n",
    "\n",
    "\n",
    "class_report = classification_report(results_test[\"preictal_true\"], results_test[\"preictal_pred\"])\n",
    "print(\"Classification Report:\")\n",
    "print(class_report)\n",
    "\n",
    "accuracy = accuracy_score(results_test[\"preictal_true\"], results_test[\"preictal_pred\"])\n",
    "precision = precision_score(results_test[\"preictal_true\"], results_test[\"preictal_pred\"], average='weighted')\n",
    "recall = recall_score(results_test[\"preictal_true\"], results_test[\"preictal_pred\"], average='weighted')\n",
    "f1 = f1_score(results_test[\"preictal_true\"], results_test[\"preictal_pred\"], average='weighted')\n",
    "\n",
    "print(f\"Accuracy: {accuracy:.4f}\")\n",
    "print(f\"Precision: {precision:.4f}\")\n",
    "print(f\"Recall: {recall:.4f}\")\n",
    "print(f\"F1 Score: {f1:.4f}\")"
   ]
  },
  {
   "cell_type": "code",
   "execution_count": 155,
   "id": "c4d88432-2db9-44ae-ba95-412b9ebb266d",
   "metadata": {
    "tags": []
   },
   "outputs": [
    {
     "data": {
      "text/plain": [
       "0.2157676348547718"
      ]
     },
     "execution_count": 155,
     "metadata": {},
     "output_type": "execute_result"
    }
   ],
   "source": [
    "recall_score(results_test[\"preictal_true\"], results_test[\"preictal_pred\"])"
   ]
  },
  {
   "cell_type": "code",
   "execution_count": 160,
   "id": "0b9c58b7-0403-4c6e-8ed9-84f85d29bab8",
   "metadata": {
    "tags": []
   },
   "outputs": [
    {
     "data": {
      "image/png": "[encoded data removed]",
      "text/plain": [
       "<Figure size 1000x700 with 2 Axes>"
      ]
     },
     "metadata": {},
     "output_type": "display_data"
    }
   ],
   "source": [
    "conf_matrix = confusion_matrix(results_test[\"preictal_true\"], results_test[\"preictal_pred\"])\n",
    "\n",
    "plt.figure(figsize=(10, 7))\n",
    "sns.heatmap(conf_matrix, annot=True, fmt='d', cmap='Blues')\n",
    "plt.xlabel('Predicted')\n",
    "plt.ylabel('True')\n",
    "plt.title('Confusion Matrix')\n",
    "plt.savefig(\"cnn1d/cm_bin.jpg\")\n",
    "plt.show()"
   ]
  },
  {
   "cell_type": "markdown",
   "id": "16ed59e6-b6f0-4b77-b8d3-3f5594258aeb",
   "metadata": {},
   "source": [
    "# Log MLflow"
   ]
  },
  {
   "cell_type": "code",
   "execution_count": null,
   "id": "b615cfe4-0b9a-486c-a418-8be4dcc22331",
   "metadata": {},
   "outputs": [],
   "source": [
    "import mlflow\n",
    "import mlflow.keras\n",
    "\n",
    "mlflow.set_tracking_uri(\"databricks\")\n",
    "mlflow.set_experiment(\"/Users/mnsosa@mi.unc.edu.ar/seizure-prediction\")\n",
    "\n",
    "with mlflow.start_run(run_name=\"nombre_del_run\") as run:\n",
    "    mlflow.log_param(\"batch_size\", batch_size)\n",
    "    mlflow.log_param(\"class_weights\", class_weights)\n",
    "    mlflow.log_param(\"scaler\", \"StandardScaler\")\n",
    "    mlflow.log_param(\"n_classes_train\", n_classes_train)\n",
    "\n",
    "    mlflow.log_metric(\"train_accuracy\", history.history['accuracy'][-1])\n",
    "    mlflow.log_metric(\"val_accuracy\", history.history['val_accuracy'][-1])\n",
    "    mlflow.log_metric(\"train_loss\", history.history['loss'][-1])\n",
    "    mlflow.log_metric(\"val_loss\", history.history['val_loss'][-1])\n",
    "    \n",
    "    mlflow.log_artifact(\"cnn1d/cm_1.jpg\")\n",
    "    mlflow.log_artifact(\"cnn1d/cm_bin.jpg\")\n",
    "    \n",
    "\n",
    "    mlflow.keras.log_model(model, \"model\")\n"
   ]
  }
 ],
 "metadata": {
  "kernelspec": {
   "display_name": ".conda-default:Python",
   "language": "python",
   "name": "conda-env-.conda-default-py"
  },
  "language_info": {
   "codemirror_mode": {
    "name": "ipython",
    "version": 3
   },
   "file_extension": ".py",
   "mimetype": "text/x-python",
   "name": "python",
   "nbconvert_exporter": "python",
   "pygments_lexer": "ipython3",
   "version": "3.9.19"
  }
 },
 "nbformat": 4,
 "nbformat_minor": 5
}
