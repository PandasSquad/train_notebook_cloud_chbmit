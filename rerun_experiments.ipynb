{
 "cells": [
  {
   "cell_type": "markdown",
   "id": "0c2cc21b-c5c1-40a9-b1cd-01bac966a2ab",
   "metadata": {},
   "source": [
    "# Train experiments"
   ]
  },
  {
   "cell_type": "markdown",
   "id": "3943f212-8151-4f63-b28d-4e663388c16b",
   "metadata": {
    "tags": []
   },
   "source": [
    "Nota: se instala por terminal databricks y se configura para usar MLflow de databricks community."
   ]
  },
  {
   "cell_type": "code",
   "execution_count": 12,
   "id": "ce73a129-8700-434c-b46f-0c268eb5d282",
   "metadata": {
    "tags": []
   },
   "outputs": [],
   "source": [
    "import tensorflow as tf\n",
    "import pandas as pd\n",
    "import numpy as np\n",
    "import os\n",
    "from sklearn.preprocessing import StandardScaler\n",
    "from sklearn.utils import class_weight\n",
    "from sklearn.model_selection import train_test_split\n",
    "import mlflow"
   ]
  },
  {
   "cell_type": "code",
   "execution_count": 6,
   "id": "2139b2fb-44a5-458b-b48c-91b665c7708f",
   "metadata": {
    "tags": []
   },
   "outputs": [
    {
     "data": {
      "text/plain": [
       "[PhysicalDevice(name='/physical_device:CPU:0', device_type='CPU'),\n",
       " PhysicalDevice(name='/physical_device:GPU:0', device_type='GPU')]"
      ]
     },
     "execution_count": 6,
     "metadata": {},
     "output_type": "execute_result"
    }
   ],
   "source": [
    "tf.config.list_physical_devices()"
   ]
  },
  {
   "cell_type": "code",
   "execution_count": 62,
   "id": "fee1786f-e719-42ed-83bd-2ac1108ec338",
   "metadata": {
    "tags": []
   },
   "outputs": [
    {
     "name": "stdout",
     "output_type": "stream",
     "text": [
      "Reading files\n",
      "Fit scaler\n"
     ]
    }
   ],
   "source": [
    "def load_and_preprocess_file(file_path, scaler=None):\n",
    "    df = pd.read_parquet(file_path)\n",
    "    data = df.values\n",
    "    if scaler:\n",
    "        data = scaler.transform(data.reshape(-1, data.shape[-1])).reshape(data.shape)\n",
    "    return data\n",
    "\n",
    "def data_generator(file_paths, labels, batch_size, scaler=None):\n",
    "    while True:\n",
    "        for start in range(0, len(file_paths), batch_size):\n",
    "            end = min(start + batch_size, len(file_paths))\n",
    "            batch_files = file_paths[start:end]\n",
    "            batch_labels = labels[start:end]\n",
    "\n",
    "            batch_data = [load_and_preprocess_file(f, scaler) for f in batch_files]\n",
    "            batch_data = np.array(batch_data)\n",
    "\n",
    "            yield batch_data, np.array(batch_labels)\n",
    "\n",
    "def get_label_for_file(file):\n",
    "    label = file.split(\"_\")[2]\n",
    "    label_dict = {\n",
    "        \"prepreictal\": 1,\n",
    "        \"preictal\": 1,\n",
    "        \"ictal\": 0,\n",
    "        \"interictal\": 0,\n",
    "    }\n",
    "\n",
    "    return label_dict[label]\n",
    "\n",
    "FOLDER = \"windows_per_parquet\"\n",
    "\n",
    "print(\"Reading files\")\n",
    "file_paths = [os.path.join(FOLDER, file) for file in os.listdir(FOLDER) if file.endswith('.parquet')]\n",
    "labels = [get_label_for_file(file) for file in os.listdir(FOLDER) if file.endswith('.parquet')]\n",
    "\n",
    "file_paths_train, file_paths_test, y_train, y_test = train_test_split(file_paths, labels, test_size=0.2, stratify=labels, random_state=42)\n",
    "\n",
    "class_weights = class_weight.compute_class_weight('balanced', classes=np.unique(y_train), y=y_train)\n",
    "class_weights = dict(enumerate(class_weights))\n",
    "\n",
    "scaler = StandardScaler()\n",
    "\n",
    "print(\"Fit scaler\")\n",
    "sample_data = []\n",
    "for file_path in file_paths_train[:200]: # fit with only 200 files\n",
    "    sample_data.append(load_and_preprocess_file(file_path))\n",
    "sample_data = np.array(sample_data).reshape(-1, sample_data[0].shape[-1])\n",
    "scaler.fit(sample_data)\n",
    "\n",
    "batch_size = 32\n",
    "\n",
    "train_gen = data_generator(file_paths_train, y_train, batch_size, scaler)\n",
    "test_gen = data_generator(file_paths_test, y_test, batch_size, scaler)\n",
    "\n",
    "steps_per_epoch = len(file_paths_train) // batch_size\n",
    "validation_steps = len(file_paths_test) // batch_size"
   ]
  },
  {
   "cell_type": "code",
   "execution_count": 59,
   "id": "91930e66-7e26-4968-bffe-d4231adaf431",
   "metadata": {},
   "outputs": [],
   "source": [
    "# n_classes_train = len(np.unique(y_train))\n",
    "n_classes_train = 1 # para binaria"
   ]
  },
  {
   "cell_type": "code",
   "execution_count": 63,
   "id": "acccb6c9-3a0f-4f42-9db5-3cedefc65d20",
   "metadata": {},
   "outputs": [
    {
     "name": "stdout",
     "output_type": "stream",
     "text": [
      "Model: \"sequential_1\"\n",
      "_________________________________________________________________\n",
      " Layer (type)                Output Shape              Param #   \n",
      "=================================================================\n",
      " conv1d_2 (Conv1D)           (None, 15358, 64)         4288      \n",
      "                                                                 \n",
      " max_pooling1d_2 (MaxPooling  (None, 7679, 64)         0         \n",
      " 1D)                                                             \n",
      "                                                                 \n",
      " flatten_2 (Flatten)         (None, 491456)            0         \n",
      "                                                                 \n",
      " dense_3 (Dense)             (None, 128)               62906496  \n",
      "                                                                 \n",
      " dense_4 (Dense)             (None, 1)                 129       \n",
      "                                                                 \n",
      "=================================================================\n",
      "Total params: 62,910,913\n",
      "Trainable params: 62,910,913\n",
      "Non-trainable params: 0\n",
      "_________________________________________________________________\n"
     ]
    }
   ],
   "source": [
    "from tensorflow.keras.regularizers import l2\n",
    "\n",
    "\n",
    "def create_model():\n",
    "    model = tf.keras.Sequential([\n",
    "        tf.keras.layers.InputLayer(input_shape=(15360, 22)),\n",
    "        tf.keras.layers.Conv1D(filters=64, kernel_size=3, activation='relu'),\n",
    "        tf.keras.layers.MaxPooling1D(pool_size=2),\n",
    "        tf.keras.layers.Flatten(),\n",
    "        tf.keras.layers.Dense(128, activation='relu'),  # Regularización L2\n",
    "        tf.keras.layers.Dense(n_classes_train, activation='sigmoid')\n",
    "    ])\n",
    "\n",
    "    model.compile(optimizer='adam', loss='binary_crossentropy', metrics=['accuracy'])\n",
    "    return model\n",
    "\n",
    "model = create_model()\n",
    "model.summary()"
   ]
  },
  {
   "cell_type": "code",
   "execution_count": 66,
   "id": "c248589c-a88a-4247-81df-0a286d874bb3",
   "metadata": {
    "tags": []
   },
   "outputs": [
    {
     "name": "stdout",
     "output_type": "stream",
     "text": [
      "Model: \"model_2\"\n",
      "_________________________________________________________________\n",
      " Layer (type)                Output Shape              Param #   \n",
      "=================================================================\n",
      " input_6 (InputLayer)        [(None, 15360, 22, 1)]    0         \n",
      "                                                                 \n",
      " conv2d_2 (Conv2D)           (None, 15360, 22, 8)      1024      \n",
      "                                                                 \n",
      " batch_normalization_6 (Batc  (None, 15360, 22, 8)     32        \n",
      " hNormalization)                                                 \n",
      "                                                                 \n",
      " depthwise_conv2d_2 (Depthwi  (None, 15339, 22, 16)    352       \n",
      " seConv2D)                                                       \n",
      "                                                                 \n",
      " batch_normalization_7 (Batc  (None, 15339, 22, 16)    64        \n",
      " hNormalization)                                                 \n",
      "                                                                 \n",
      " activation_4 (Activation)   (None, 15339, 22, 16)     0         \n",
      "                                                                 \n",
      " average_pooling2d_4 (Averag  (None, 15339, 11, 16)    0         \n",
      " ePooling2D)                                                     \n",
      "                                                                 \n",
      " dropout_4 (Dropout)         (None, 15339, 11, 16)     0         \n",
      "                                                                 \n",
      " separable_conv2d_2 (Separab  (None, 15339, 11, 16)    512       \n",
      " leConv2D)                                                       \n",
      "                                                                 \n",
      " batch_normalization_8 (Batc  (None, 15339, 11, 16)    64        \n",
      " hNormalization)                                                 \n",
      "                                                                 \n",
      " activation_5 (Activation)   (None, 15339, 11, 16)     0         \n",
      "                                                                 \n",
      " average_pooling2d_5 (Averag  (None, 15339, 2, 16)     0         \n",
      " ePooling2D)                                                     \n",
      "                                                                 \n",
      " dropout_5 (Dropout)         (None, 15339, 2, 16)      0         \n",
      "                                                                 \n",
      " flatten (Flatten)           (None, 490848)            0         \n",
      "                                                                 \n",
      " dense (Dense)               (None, 1)                 490849    \n",
      "                                                                 \n",
      " sigmoid (Activation)        (None, 1)                 0         \n",
      "                                                                 \n",
      "=================================================================\n",
      "Total params: 492,897\n",
      "Trainable params: 492,817\n",
      "Non-trainable params: 80\n",
      "_________________________________________________________________\n"
     ]
    }
   ],
   "source": [
    "from tensorflow.keras.models import Model\n",
    "from tensorflow.keras.layers import Dense, Activation, Permute, Dropout\n",
    "from tensorflow.keras.layers import Conv2D, MaxPooling2D, AveragePooling2D\n",
    "from tensorflow.keras.layers import SeparableConv2D, DepthwiseConv2D\n",
    "from tensorflow.keras.layers import BatchNormalization\n",
    "from tensorflow.keras.layers import SpatialDropout2D\n",
    "from tensorflow.keras.regularizers import l1_l2\n",
    "from tensorflow.keras.layers import Input, Flatten, InputLayer\n",
    "from tensorflow.keras.constraints import max_norm\n",
    "from tensorflow.keras import backend as K\n",
    "\n",
    "\n",
    "def EEGNet(nb_classes, Chans = 64, Samples = 128,\n",
    "             dropoutRate = 0.5, kernLength = 64, F1 = 8,\n",
    "             D = 2, F2 = 16, norm_rate = 0.25, dropoutType = 'Dropout'):\n",
    "    \"\"\" Keras Implementation of EEGNet\n",
    "    http://iopscience.iop.org/article/10.1088/1741-2552/aace8c/meta\n",
    "\n",
    "    Note that this implements the newest version of EEGNet and NOT the earlier\n",
    "    version (version v1 and v2 on arxiv). We strongly recommend using this\n",
    "    architecture as it performs much better and has nicer properties than\n",
    "    our earlier version. For example:\n",
    "\n",
    "        1. Depthwise Convolutions to learn spatial filters within a\n",
    "        temporal convolution. The use of the depth_multiplier option maps\n",
    "        exactly to the number of spatial filters learned within a temporal\n",
    "        filter. This matches the setup of algorithms like FBCSP which learn\n",
    "        spatial filters within each filter in a filter-bank. This also limits\n",
    "        the number of free parameters to fit when compared to a fully-connected\n",
    "        convolution.\n",
    "\n",
    "        2. Separable Convolutions to learn how to optimally combine spatial\n",
    "        filters across temporal bands. Separable Convolutions are Depthwise\n",
    "        Convolutions followed by (1x1) Pointwise Convolutions.\n",
    "\n",
    "\n",
    "    While the original paper used Dropout, we found that SpatialDropout2D\n",
    "    sometimes produced slightly better results for classification of ERP\n",
    "    signals. However, SpatialDropout2D significantly reduced performance\n",
    "    on the Oscillatory dataset (SMR, BCI-IV Dataset 2A). We recommend using\n",
    "    the default Dropout in most cases.\n",
    "\n",
    "    Assumes the input signal is sampled at 128Hz. If you want to use this model\n",
    "    for any other sampling rate you will need to modify the lengths of temporal\n",
    "    kernels and average pooling size in blocks 1 and 2 as needed (double the\n",
    "    kernel lengths for double the sampling rate, etc). Note that we haven't\n",
    "    tested the model performance with this rule so this may not work well.\n",
    "\n",
    "    The model with default parameters gives the EEGNet-8,2 model as discussed\n",
    "    in the paper. This model should do pretty well in general, although it is\n",
    "\tadvised to do some model searching to get optimal performance on your\n",
    "\tparticular dataset.\n",
    "\n",
    "    We set F2 = F1 * D (number of input filters = number of output filters) for\n",
    "    the SeparableConv2D layer. We haven't extensively tested other values of this\n",
    "    parameter (say, F2 < F1 * D for compressed learning, and F2 > F1 * D for\n",
    "    overcomplete). We believe the main parameters to focus on are F1 and D.\n",
    "\n",
    "    Inputs:\n",
    "\n",
    "      nb_classes      : int, number of classes to classify\n",
    "      Chans, Samples  : number of channels and time points in the EEG data\n",
    "      dropoutRate     : dropout fraction\n",
    "      kernLength      : length of temporal convolution in first layer. We found\n",
    "                        that setting this to be half the sampling rate worked\n",
    "                        well in practice. For the SMR dataset in particular\n",
    "                        since the data was high-passed at 4Hz we used a kernel\n",
    "                        length of 32.\n",
    "      F1, F2          : number of temporal filters (F1) and number of pointwise\n",
    "                        filters (F2) to learn. Default: F1 = 8, F2 = F1 * D.\n",
    "      D               : number of spatial filters to learn within each temporal\n",
    "                        convolution. Default: D = 2\n",
    "      dropoutType     : Either SpatialDropout2D or Dropout, passed as a string.\n",
    "\n",
    "    \"\"\"\n",
    "\n",
    "    if dropoutType == 'SpatialDropout2D':\n",
    "        dropoutType = SpatialDropout2D\n",
    "    elif dropoutType == 'Dropout':\n",
    "        dropoutType = Dropout\n",
    "    else:\n",
    "        raise ValueError('dropoutType must be one of SpatialDropout2D '\n",
    "                         'or Dropout, passed as a string.')\n",
    "\n",
    "    # input1   = Input(shape = (Chans, Samples, 1))\n",
    "    input1   = Input(shape = (Samples, Chans, 1))\n",
    "\n",
    "    ##################################################################\n",
    "    block1       = Conv2D(F1, (1, kernLength), padding = 'same',\n",
    "                                   input_shape = (Samples, Chans, 1),\n",
    "                                   use_bias = False)(input1)\n",
    "    block1       = BatchNormalization()(block1)\n",
    "    block1       = DepthwiseConv2D((Chans, 1), use_bias = False,\n",
    "                                   depth_multiplier = D,\n",
    "                                   depthwise_constraint = max_norm(1.))(block1)\n",
    "    block1       = BatchNormalization()(block1)\n",
    "    block1       = Activation('elu')(block1)\n",
    "    block1       = AveragePooling2D((1, 2))(block1)\n",
    "    block1       = dropoutType(dropoutRate)(block1)\n",
    "\n",
    "    block2       = SeparableConv2D(F2, (1, 16),\n",
    "                                   use_bias = False, padding = 'same')(block1)\n",
    "    block2       = BatchNormalization()(block2)\n",
    "    block2       = Activation('elu')(block2)\n",
    "    block2       = AveragePooling2D((1, 4))(block2)\n",
    "    block2       = dropoutType(dropoutRate)(block2)\n",
    "\n",
    "    flatten      = Flatten(name = 'flatten')(block2)\n",
    "\n",
    "    dense        = Dense(nb_classes, name = 'dense',\n",
    "                         kernel_constraint = max_norm(norm_rate))(flatten)\n",
    "    # softmax      = Activation('softmax', name = 'softmax')(dense)\n",
    "\n",
    "    # return Model(inputs=input1, outputs=softmax)\n",
    "    sigmoid      = Activation('sigmoid', name = 'sigmoid')(dense)\n",
    "\n",
    "    return Model(inputs=input1, outputs=sigmoid)\n",
    "\n",
    "\n",
    "model = EEGNet(nb_classes=1, Chans=22, Samples=15360, dropoutRate=0.1, kernLength=128)\n",
    "# model.compile(optimizer='adam', loss='sparse_categorical_crossentropy', metrics=['accuracy'])\n",
    "model.compile(optimizer='adam', loss='binary_crossentropy', metrics=['accuracy'])\n",
    "model.summary()"
   ]
  },
  {
   "cell_type": "code",
   "execution_count": null,
   "id": "561d551c-099c-47dc-a003-c658267539bf",
   "metadata": {},
   "outputs": [
    {
     "name": "stdout",
     "output_type": "stream",
     "text": [
      "Epoch 1/50\n"
     ]
    },
    {
     "name": "stderr",
     "output_type": "stream",
     "text": [
      "2024-07-27 18:51:16.008832: E tensorflow/core/grappler/optimizers/meta_optimizer.cc:954] layout failed: INVALID_ARGUMENT: Size of values 0 does not match size of permutation 4 @ fanin shape inmodel_2/dropout_4/dropout/SelectV2-2-TransposeNHWCToNCHW-LayoutOptimizer\n"
     ]
    },
    {
     "name": "stdout",
     "output_type": "stream",
     "text": [
      "97/97 [==============================] - 81s 814ms/step - loss: 0.8515 - accuracy: 0.5410 - val_loss: 0.7057 - val_accuracy: 0.3190\n",
      "Epoch 2/50\n",
      "26/97 [=======>......................] - ETA: 52s - loss: 0.6929 - accuracy: 0.5636"
     ]
    }
   ],
   "source": [
    "early_stopping_callback = tf.keras.callbacks.EarlyStopping(\n",
    "    monitor='val_loss',\n",
    "    patience=6,\n",
    "    restore_best_weights=True\n",
    ")\n",
    "\n",
    "history = model.fit(\n",
    "    train_gen,\n",
    "    steps_per_epoch=steps_per_epoch,\n",
    "    epochs=50,\n",
    "    validation_data=test_gen,\n",
    "    validation_steps=validation_steps,\n",
    "    class_weight=class_weights,\n",
    "    callbacks=[early_stopping_callback]\n",
    ")\n",
    "\n",
    "\n",
    "test_loss, test_acc = model.evaluate(test_gen, steps=validation_steps)\n",
    "print(f'Test accuracy: {test_acc}')\n"
   ]
  },
  {
   "cell_type": "code",
   "execution_count": 34,
   "id": "54d5f3af-cba4-42a0-88d0-259088ab19de",
   "metadata": {},
   "outputs": [
    {
     "name": "stderr",
     "output_type": "stream",
     "text": [
      "2024/07/27 18:06:32 WARNING mlflow.tensorflow: You are saving a TensorFlow Core model or Keras model without a signature. Inference with mlflow.pyfunc.spark_udf() will not work unless the model's pyfunc representation accepts pandas DataFrames as inference inputs.\n",
      "WARNING:absl:Found untraced functions such as _jit_compiled_convolution_op, _jit_compiled_convolution_op, _jit_compiled_convolution_op while saving (showing 3 of 3). These functions will not be directly callable after loading.\n"
     ]
    },
    {
     "name": "stdout",
     "output_type": "stream",
     "text": [
      "INFO:tensorflow:Assets written to: /tmp/tmpo_have0r/model/data/model/assets\n"
     ]
    },
    {
     "name": "stderr",
     "output_type": "stream",
     "text": [
      "INFO:tensorflow:Assets written to: /tmp/tmpo_have0r/model/data/model/assets\n",
      "2024/07/27 18:06:39 WARNING mlflow.models.model: Model logged without a signature. Signatures will be required for upcoming model registry features as they validate model inputs and denote the expected schema of model outputs. Please visit https://www.mlflow.org/docs/2.14.3/models.html#set-signature-on-logged-model for instructions on setting a model signature on your logged model.\n"
     ]
    },
    {
     "data": {
      "application/vnd.jupyter.widget-view+json": {
       "model_id": "5cd6f8e635e04d8fa1f64a60bea80410",
       "version_major": 2,
       "version_minor": 0
      },
      "text/plain": [
       "Uploading artifacts:   0%|          | 0/11 [00:00<?, ?it/s]"
      ]
     },
     "metadata": {},
     "output_type": "display_data"
    },
    {
     "data": {
      "text/plain": [
       "<mlflow.models.model.ModelInfo at 0x7f6df6685160>"
      ]
     },
     "execution_count": 34,
     "metadata": {},
     "output_type": "execute_result"
    }
   ],
   "source": [
    "mlflow.keras.log_model(model, \"model\")"
   ]
  },
  {
   "cell_type": "code",
   "execution_count": 57,
   "id": "781fd508-8e34-4d99-8984-3447c3d2c5fd",
   "metadata": {
    "tags": []
   },
   "outputs": [
    {
     "name": "stdout",
     "output_type": "stream",
     "text": [
      "1/1 [==============================] - 0s 54ms/step\n",
      "1/1 [==============================] - 0s 51ms/step\n",
      "1/1 [==============================] - 0s 38ms/step\n",
      "1/1 [==============================] - 0s 38ms/step\n",
      "1/1 [==============================] - 0s 50ms/step\n",
      "1/1 [==============================] - 0s 50ms/step\n",
      "1/1 [==============================] - 0s 50ms/step\n",
      "1/1 [==============================] - 0s 50ms/step\n",
      "1/1 [==============================] - 0s 52ms/step\n",
      "1/1 [==============================] - 0s 50ms/step\n",
      "1/1 [==============================] - 0s 50ms/step\n",
      "1/1 [==============================] - 0s 38ms/step\n",
      "1/1 [==============================] - 0s 38ms/step\n",
      "1/1 [==============================] - 0s 37ms/step\n",
      "1/1 [==============================] - 0s 37ms/step\n",
      "1/1 [==============================] - 0s 37ms/step\n",
      "1/1 [==============================] - 0s 37ms/step\n",
      "1/1 [==============================] - 0s 37ms/step\n",
      "1/1 [==============================] - 0s 37ms/step\n",
      "1/1 [==============================] - 0s 26ms/step\n",
      "1/1 [==============================] - 0s 50ms/step\n",
      "1/1 [==============================] - 0s 37ms/step\n",
      "1/1 [==============================] - 0s 38ms/step\n",
      "1/1 [==============================] - 0s 37ms/step\n",
      "1/1 [==============================] - 0s 37ms/step\n"
     ]
    },
    {
     "data": {
      "image/png": "[encoded data removed]",
      "text/plain": [
       "<Figure size 1000x700 with 2 Axes>"
      ]
     },
     "metadata": {},
     "output_type": "display_data"
    }
   ],
   "source": [
    "from sklearn.metrics import confusion_matrix\n",
    "import seaborn as sns\n",
    "import matplotlib.pyplot as plt\n",
    "\n",
    "y_pred = []\n",
    "y_true = []\n",
    "filenames_test = []\n",
    "\n",
    "for i in range(validation_steps+1):\n",
    "    filenames_test.extend(file_paths_test[batch_size*i:batch_size*(i+1)])\n",
    "    X_batch, y_batch = next(test_gen)\n",
    "    y_true.extend(y_batch)\n",
    "    y_pred_batch = np.argmax(model.predict(X_batch), axis=-1)\n",
    "    y_pred.extend(y_pred_batch)\n",
    "\n",
    "conf_matrix = confusion_matrix(y_true, y_pred)\n",
    "\n",
    "plt.figure(figsize=(10, 7))\n",
    "sns.heatmap(conf_matrix, annot=True, fmt='d', cmap='Blues')\n",
    "plt.xlabel('Predicted')\n",
    "plt.ylabel('True')\n",
    "plt.title('Confusion Matrix')\n",
    "plt.savefig(\"cm_1.jpg\")\n",
    "plt.show()\n"
   ]
  },
  {
   "cell_type": "code",
   "execution_count": 36,
   "id": "af261c22-e26d-4ded-a5e2-7ce7321b190e",
   "metadata": {
    "tags": []
   },
   "outputs": [],
   "source": [
    "model.save('modelo_1.h5')"
   ]
  },
  {
   "cell_type": "markdown",
   "id": "a2b6a52e-8fa9-4c8d-86b9-fa5e9d3eb4d4",
   "metadata": {},
   "source": [
    "## Métricas"
   ]
  },
  {
   "cell_type": "code",
   "execution_count": 37,
   "id": "43be1cbf-6f52-49fd-b869-8ccf21d3bf67",
   "metadata": {
    "tags": []
   },
   "outputs": [
    {
     "name": "stdout",
     "output_type": "stream",
     "text": [
      "Model: \"model\"\n",
      "_________________________________________________________________\n",
      " Layer (type)                Output Shape              Param #   \n",
      "=================================================================\n",
      " input_3 (InputLayer)        [(None, 15360, 22, 1)]    0         \n",
      "                                                                 \n",
      " conv2d (Conv2D)             (None, 15360, 22, 8)      1024      \n",
      "                                                                 \n",
      " batch_normalization (BatchN  (None, 15360, 22, 8)     32        \n",
      " ormalization)                                                   \n",
      "                                                                 \n",
      " depthwise_conv2d (Depthwise  (None, 15339, 22, 16)    352       \n",
      " Conv2D)                                                         \n",
      "                                                                 \n",
      " batch_normalization_1 (Batc  (None, 15339, 22, 16)    64        \n",
      " hNormalization)                                                 \n",
      "                                                                 \n",
      " activation (Activation)     (None, 15339, 22, 16)     0         \n",
      "                                                                 \n",
      " average_pooling2d (AverageP  (None, 15339, 11, 16)    0         \n",
      " ooling2D)                                                       \n",
      "                                                                 \n",
      " dropout (Dropout)           (None, 15339, 11, 16)     0         \n",
      "                                                                 \n",
      " separable_conv2d (Separable  (None, 15339, 11, 16)    512       \n",
      " Conv2D)                                                         \n",
      "                                                                 \n",
      " batch_normalization_2 (Batc  (None, 15339, 11, 16)    64        \n",
      " hNormalization)                                                 \n",
      "                                                                 \n",
      " activation_1 (Activation)   (None, 15339, 11, 16)     0         \n",
      "                                                                 \n",
      " average_pooling2d_1 (Averag  (None, 15339, 2, 16)     0         \n",
      " ePooling2D)                                                     \n",
      "                                                                 \n",
      " dropout_1 (Dropout)         (None, 15339, 2, 16)      0         \n",
      "                                                                 \n",
      " flatten (Flatten)           (None, 490848)            0         \n",
      "                                                                 \n",
      " dense (Dense)               (None, 1)                 490849    \n",
      "                                                                 \n",
      " sigmoid (Activation)        (None, 1)                 0         \n",
      "                                                                 \n",
      "=================================================================\n",
      "Total params: 492,897\n",
      "Trainable params: 492,817\n",
      "Non-trainable params: 80\n",
      "_________________________________________________________________\n"
     ]
    }
   ],
   "source": [
    "import tensorflow as tf\n",
    "\n",
    "\n",
    "\n",
    "model = tf.keras.models.load_model('modelo_1.h5')\n",
    "\n",
    "# Mostrar un resumen del modelo para confirmar que se cargó correctamente\n",
    "model.summary()"
   ]
  },
  {
   "cell_type": "code",
   "execution_count": 38,
   "id": "6ecb5b85-ce07-40b7-aa87-4b7817db5e78",
   "metadata": {
    "tags": []
   },
   "outputs": [
    {
     "name": "stdout",
     "output_type": "stream",
     "text": [
      "Classification Report:\n",
      "              precision    recall  f1-score   support\n",
      "\n",
      "           0       0.69      1.00      0.82       536\n",
      "           1       0.00      0.00      0.00       241\n",
      "\n",
      "    accuracy                           0.69       777\n",
      "   macro avg       0.34      0.50      0.41       777\n",
      "weighted avg       0.48      0.69      0.56       777\n",
      "\n",
      "Accuracy: 0.6898\n",
      "Precision: 0.4759\n",
      "Recall: 0.6898\n",
      "F1 Score: 0.5632\n"
     ]
    },
    {
     "name": "stderr",
     "output_type": "stream",
     "text": [
      "/home/studio-lab-user/.conda/envs/default/lib/python3.9/site-packages/sklearn/metrics/_classification.py:1531: UndefinedMetricWarning: Precision is ill-defined and being set to 0.0 in labels with no predicted samples. Use `zero_division` parameter to control this behavior.\n",
      "  _warn_prf(average, modifier, f\"{metric.capitalize()} is\", len(result))\n",
      "/home/studio-lab-user/.conda/envs/default/lib/python3.9/site-packages/sklearn/metrics/_classification.py:1531: UndefinedMetricWarning: Precision is ill-defined and being set to 0.0 in labels with no predicted samples. Use `zero_division` parameter to control this behavior.\n",
      "  _warn_prf(average, modifier, f\"{metric.capitalize()} is\", len(result))\n",
      "/home/studio-lab-user/.conda/envs/default/lib/python3.9/site-packages/sklearn/metrics/_classification.py:1531: UndefinedMetricWarning: Precision is ill-defined and being set to 0.0 in labels with no predicted samples. Use `zero_division` parameter to control this behavior.\n",
      "  _warn_prf(average, modifier, f\"{metric.capitalize()} is\", len(result))\n",
      "/home/studio-lab-user/.conda/envs/default/lib/python3.9/site-packages/sklearn/metrics/_classification.py:1531: UndefinedMetricWarning: Precision is ill-defined and being set to 0.0 in labels with no predicted samples. Use `zero_division` parameter to control this behavior.\n",
      "  _warn_prf(average, modifier, f\"{metric.capitalize()} is\", len(result))\n"
     ]
    }
   ],
   "source": [
    "from sklearn.metrics import classification_report, accuracy_score, precision_score, recall_score, f1_score\n",
    "\n",
    "# Calcular y mostrar el classification report\n",
    "class_report = classification_report(y_true, y_pred)\n",
    "print(\"Classification Report:\")\n",
    "print(class_report)\n",
    "\n",
    "# Calcular otras métricas\n",
    "accuracy = accuracy_score(y_true, y_pred)\n",
    "precision = precision_score(y_true, y_pred, average='weighted')\n",
    "recall = recall_score(y_true, y_pred, average='weighted')\n",
    "f1 = f1_score(y_true, y_pred, average='weighted')\n",
    "\n",
    "print(f\"Accuracy: {accuracy:.4f}\")\n",
    "print(f\"Precision: {precision:.4f}\")\n",
    "print(f\"Recall: {recall:.4f}\")\n",
    "print(f\"F1 Score: {f1:.4f}\")"
   ]
  },
  {
   "cell_type": "code",
   "execution_count": 39,
   "id": "ad695443-0832-4e45-b7cf-fca2a2af36fe",
   "metadata": {
    "tags": []
   },
   "outputs": [
    {
     "data": {
      "text/html": [
       "<div>\n",
       "<style scoped>\n",
       "    .dataframe tbody tr th:only-of-type {\n",
       "        vertical-align: middle;\n",
       "    }\n",
       "\n",
       "    .dataframe tbody tr th {\n",
       "        vertical-align: top;\n",
       "    }\n",
       "\n",
       "    .dataframe thead th {\n",
       "        text-align: right;\n",
       "    }\n",
       "</style>\n",
       "<table border=\"1\" class=\"dataframe\">\n",
       "  <thead>\n",
       "    <tr style=\"text-align: right;\">\n",
       "      <th></th>\n",
       "      <th>filename</th>\n",
       "      <th>y</th>\n",
       "      <th>y_pred</th>\n",
       "      <th>patient</th>\n",
       "      <th>preictal_true</th>\n",
       "      <th>preictal_pred</th>\n",
       "    </tr>\n",
       "  </thead>\n",
       "  <tbody>\n",
       "    <tr>\n",
       "      <th>0</th>\n",
       "      <td>windows_per_parquet/chb12_33_prepreictal_1.par...</td>\n",
       "      <td>1</td>\n",
       "      <td>0</td>\n",
       "      <td>chb12</td>\n",
       "      <td>True</td>\n",
       "      <td>False</td>\n",
       "    </tr>\n",
       "    <tr>\n",
       "      <th>1</th>\n",
       "      <td>windows_per_parquet/chb01_07_interictal_3.parquet</td>\n",
       "      <td>0</td>\n",
       "      <td>0</td>\n",
       "      <td>chb01</td>\n",
       "      <td>False</td>\n",
       "      <td>False</td>\n",
       "    </tr>\n",
       "    <tr>\n",
       "      <th>2</th>\n",
       "      <td>windows_per_parquet/chb01_19_interictal_3.parquet</td>\n",
       "      <td>0</td>\n",
       "      <td>0</td>\n",
       "      <td>chb01</td>\n",
       "      <td>False</td>\n",
       "      <td>False</td>\n",
       "    </tr>\n",
       "    <tr>\n",
       "      <th>3</th>\n",
       "      <td>windows_per_parquet/chb10_15_interictal_1.parquet</td>\n",
       "      <td>0</td>\n",
       "      <td>0</td>\n",
       "      <td>chb10</td>\n",
       "      <td>False</td>\n",
       "      <td>False</td>\n",
       "    </tr>\n",
       "    <tr>\n",
       "      <th>4</th>\n",
       "      <td>windows_per_parquet/chb21_09_interictal_0.parquet</td>\n",
       "      <td>0</td>\n",
       "      <td>0</td>\n",
       "      <td>chb21</td>\n",
       "      <td>False</td>\n",
       "      <td>False</td>\n",
       "    </tr>\n",
       "    <tr>\n",
       "      <th>...</th>\n",
       "      <td>...</td>\n",
       "      <td>...</td>\n",
       "      <td>...</td>\n",
       "      <td>...</td>\n",
       "      <td>...</td>\n",
       "      <td>...</td>\n",
       "    </tr>\n",
       "    <tr>\n",
       "      <th>772</th>\n",
       "      <td>windows_per_parquet/chb04_36_interictal_0.parquet</td>\n",
       "      <td>0</td>\n",
       "      <td>0</td>\n",
       "      <td>chb04</td>\n",
       "      <td>False</td>\n",
       "      <td>False</td>\n",
       "    </tr>\n",
       "    <tr>\n",
       "      <th>773</th>\n",
       "      <td>windows_per_parquet/chb22_29_interictal_2.parquet</td>\n",
       "      <td>0</td>\n",
       "      <td>0</td>\n",
       "      <td>chb22</td>\n",
       "      <td>False</td>\n",
       "      <td>False</td>\n",
       "    </tr>\n",
       "    <tr>\n",
       "      <th>774</th>\n",
       "      <td>windows_per_parquet/chb14_18_preictal_1.parquet</td>\n",
       "      <td>1</td>\n",
       "      <td>0</td>\n",
       "      <td>chb14</td>\n",
       "      <td>True</td>\n",
       "      <td>False</td>\n",
       "    </tr>\n",
       "    <tr>\n",
       "      <th>775</th>\n",
       "      <td>windows_per_parquet/chb18_20_interictal_2.parquet</td>\n",
       "      <td>0</td>\n",
       "      <td>0</td>\n",
       "      <td>chb18</td>\n",
       "      <td>False</td>\n",
       "      <td>False</td>\n",
       "    </tr>\n",
       "    <tr>\n",
       "      <th>776</th>\n",
       "      <td>windows_per_parquet/chb18_07_interictal_3.parquet</td>\n",
       "      <td>0</td>\n",
       "      <td>0</td>\n",
       "      <td>chb18</td>\n",
       "      <td>False</td>\n",
       "      <td>False</td>\n",
       "    </tr>\n",
       "  </tbody>\n",
       "</table>\n",
       "<p>777 rows × 6 columns</p>\n",
       "</div>"
      ],
      "text/plain": [
       "                                              filename  y  y_pred patient  \\\n",
       "0    windows_per_parquet/chb12_33_prepreictal_1.par...  1       0   chb12   \n",
       "1    windows_per_parquet/chb01_07_interictal_3.parquet  0       0   chb01   \n",
       "2    windows_per_parquet/chb01_19_interictal_3.parquet  0       0   chb01   \n",
       "3    windows_per_parquet/chb10_15_interictal_1.parquet  0       0   chb10   \n",
       "4    windows_per_parquet/chb21_09_interictal_0.parquet  0       0   chb21   \n",
       "..                                                 ... ..     ...     ...   \n",
       "772  windows_per_parquet/chb04_36_interictal_0.parquet  0       0   chb04   \n",
       "773  windows_per_parquet/chb22_29_interictal_2.parquet  0       0   chb22   \n",
       "774    windows_per_parquet/chb14_18_preictal_1.parquet  1       0   chb14   \n",
       "775  windows_per_parquet/chb18_20_interictal_2.parquet  0       0   chb18   \n",
       "776  windows_per_parquet/chb18_07_interictal_3.parquet  0       0   chb18   \n",
       "\n",
       "     preictal_true  preictal_pred  \n",
       "0             True          False  \n",
       "1            False          False  \n",
       "2            False          False  \n",
       "3            False          False  \n",
       "4            False          False  \n",
       "..             ...            ...  \n",
       "772          False          False  \n",
       "773          False          False  \n",
       "774           True          False  \n",
       "775          False          False  \n",
       "776          False          False  \n",
       "\n",
       "[777 rows x 6 columns]"
      ]
     },
     "execution_count": 39,
     "metadata": {},
     "output_type": "execute_result"
    }
   ],
   "source": [
    "import pandas as pd\n",
    "\n",
    "results_test = pd.DataFrame({\"filename\": filenames_test})\n",
    "results_test[\"y\"] = y_true\n",
    "results_test[\"y_pred\"] = y_pred\n",
    "\n",
    "results_test[\"patient\"] = results_test[\"filename\"].apply(lambda x: x.split(\"_\")[2].split(\"/\")[-1])\n",
    "\n",
    "results_test[\"preictal_true\"] = results_test[\"y\"].apply(lambda x: x == 1)\n",
    "results_test[\"preictal_pred\"] = results_test[\"y_pred\"].apply(lambda x: x == 1)\n",
    "\n",
    "# there are some chb17a, chb17b, etc. we rename those to chb17\n",
    "chb_indexes = results_test.query(\"patient.str.startswith('chb17')\").index\n",
    "results_test.loc[chb_indexes, \"patient\"] = \"chb17\"\n",
    "\n",
    "results_test"
   ]
  },
  {
   "cell_type": "code",
   "execution_count": 21,
   "id": "22ea9454-b472-430b-a49d-fd1e0b17ae2b",
   "metadata": {
    "tags": []
   },
   "outputs": [
    {
     "data": {
      "text/plain": [
       "preictal_true\n",
       "False    536\n",
       "True     241\n",
       "Name: count, dtype: int64"
      ]
     },
     "execution_count": 21,
     "metadata": {},
     "output_type": "execute_result"
    }
   ],
   "source": [
    "results_test.preictal_true.value_counts()"
   ]
  },
  {
   "cell_type": "code",
   "execution_count": 22,
   "id": "05bfd913-e298-4469-8ddf-471023267d86",
   "metadata": {
    "tags": []
   },
   "outputs": [
    {
     "data": {
      "text/plain": [
       "count    24.000000\n",
       "mean     32.375000\n",
       "std      11.705861\n",
       "min      14.000000\n",
       "25%      24.250000\n",
       "50%      33.000000\n",
       "75%      40.000000\n",
       "max      63.000000\n",
       "Name: count, dtype: float64"
      ]
     },
     "execution_count": 22,
     "metadata": {},
     "output_type": "execute_result"
    }
   ],
   "source": [
    "results_test.patient.value_counts().describe()"
   ]
  },
  {
   "cell_type": "code",
   "execution_count": 23,
   "id": "5251a357-c666-4a22-8ba8-1a335b058ec2",
   "metadata": {
    "tags": []
   },
   "outputs": [
    {
     "data": {
      "text/plain": [
       "<Axes: xlabel='patient'>"
      ]
     },
     "execution_count": 23,
     "metadata": {},
     "output_type": "execute_result"
    },
    {
     "data": {
      "image/png": "[encoded data removed]",
      "text/plain": [
       "<Figure size 640x480 with 1 Axes>"
      ]
     },
     "metadata": {},
     "output_type": "display_data"
    }
   ],
   "source": [
    "results_test[[\"patient\", \"preictal_true\"]].value_counts().unstack().plot(kind=\"bar\")"
   ]
  },
  {
   "cell_type": "code",
   "execution_count": 40,
   "id": "ec5496b2-758f-4e3d-b1dd-bf00beebb8b8",
   "metadata": {
    "tags": []
   },
   "outputs": [],
   "source": [
    "results_test.to_csv(\"resultados_test_1.csv\", index=False)"
   ]
  },
  {
   "cell_type": "code",
   "execution_count": 41,
   "id": "51151261-3829-447f-9814-faeb72049de6",
   "metadata": {
    "tags": []
   },
   "outputs": [
    {
     "name": "stdout",
     "output_type": "stream",
     "text": [
      "Classification Report:\n",
      "              precision    recall  f1-score   support\n",
      "\n",
      "       False       0.69      1.00      0.82       536\n",
      "        True       0.00      0.00      0.00       241\n",
      "\n",
      "    accuracy                           0.69       777\n",
      "   macro avg       0.34      0.50      0.41       777\n",
      "weighted avg       0.48      0.69      0.56       777\n",
      "\n",
      "Accuracy: 0.6898\n",
      "Precision: 0.4759\n",
      "Recall: 0.6898\n",
      "F1 Score: 0.5632\n"
     ]
    },
    {
     "name": "stderr",
     "output_type": "stream",
     "text": [
      "/home/studio-lab-user/.conda/envs/default/lib/python3.9/site-packages/sklearn/metrics/_classification.py:1531: UndefinedMetricWarning: Precision is ill-defined and being set to 0.0 in labels with no predicted samples. Use `zero_division` parameter to control this behavior.\n",
      "  _warn_prf(average, modifier, f\"{metric.capitalize()} is\", len(result))\n",
      "/home/studio-lab-user/.conda/envs/default/lib/python3.9/site-packages/sklearn/metrics/_classification.py:1531: UndefinedMetricWarning: Precision is ill-defined and being set to 0.0 in labels with no predicted samples. Use `zero_division` parameter to control this behavior.\n",
      "  _warn_prf(average, modifier, f\"{metric.capitalize()} is\", len(result))\n",
      "/home/studio-lab-user/.conda/envs/default/lib/python3.9/site-packages/sklearn/metrics/_classification.py:1531: UndefinedMetricWarning: Precision is ill-defined and being set to 0.0 in labels with no predicted samples. Use `zero_division` parameter to control this behavior.\n",
      "  _warn_prf(average, modifier, f\"{metric.capitalize()} is\", len(result))\n",
      "/home/studio-lab-user/.conda/envs/default/lib/python3.9/site-packages/sklearn/metrics/_classification.py:1531: UndefinedMetricWarning: Precision is ill-defined and being set to 0.0 in labels with no predicted samples. Use `zero_division` parameter to control this behavior.\n",
      "  _warn_prf(average, modifier, f\"{metric.capitalize()} is\", len(result))\n"
     ]
    }
   ],
   "source": [
    "from sklearn.metrics import classification_report, accuracy_score, precision_score, recall_score, f1_score\n",
    "\n",
    "\n",
    "class_report = classification_report(results_test[\"preictal_true\"], results_test[\"preictal_pred\"])\n",
    "print(\"Classification Report:\")\n",
    "print(class_report)\n",
    "\n",
    "accuracy = accuracy_score(results_test[\"preictal_true\"], results_test[\"preictal_pred\"])\n",
    "precision = precision_score(results_test[\"preictal_true\"], results_test[\"preictal_pred\"], average='weighted')\n",
    "recall = recall_score(results_test[\"preictal_true\"], results_test[\"preictal_pred\"], average='weighted')\n",
    "f1 = f1_score(results_test[\"preictal_true\"], results_test[\"preictal_pred\"], average='weighted')\n",
    "\n",
    "print(f\"Accuracy: {accuracy:.4f}\")\n",
    "print(f\"Precision: {precision:.4f}\")\n",
    "print(f\"Recall: {recall:.4f}\")\n",
    "print(f\"F1 Score: {f1:.4f}\")"
   ]
  },
  {
   "cell_type": "code",
   "execution_count": 42,
   "id": "c4d88432-2db9-44ae-ba95-412b9ebb266d",
   "metadata": {
    "tags": []
   },
   "outputs": [
    {
     "data": {
      "text/plain": [
       "0.0"
      ]
     },
     "execution_count": 42,
     "metadata": {},
     "output_type": "execute_result"
    }
   ],
   "source": [
    "recall_score(results_test[\"preictal_true\"], results_test[\"preictal_pred\"])"
   ]
  },
  {
   "cell_type": "code",
   "execution_count": 50,
   "id": "0b9c58b7-0403-4c6e-8ed9-84f85d29bab8",
   "metadata": {
    "tags": []
   },
   "outputs": [
    {
     "data": {
      "image/png": "[encoded data removed]",
      "text/plain": [
       "<Figure size 1000x700 with 2 Axes>"
      ]
     },
     "metadata": {},
     "output_type": "display_data"
    }
   ],
   "source": [
    "conf_matrix = confusion_matrix(results_test[\"preictal_true\"], results_test[\"preictal_pred\"])\n",
    "\n",
    "plt.figure(figsize=(10, 7))\n",
    "sns.heatmap(conf_matrix, annot=True, fmt='d', cmap='Blues')\n",
    "plt.xlabel('Predicted')\n",
    "plt.ylabel('True')\n",
    "plt.title('Confusion Matrix')\n",
    "plt.savefig(\"cm_bin.jpg\")\n",
    "plt.show()"
   ]
  },
  {
   "cell_type": "code",
   "execution_count": 65,
   "id": "0bc2a5bc-04a8-4494-aac1-462c653df93c",
   "metadata": {
    "tags": []
   },
   "outputs": [
    {
     "name": "stdout",
     "output_type": "stream",
     "text": [
      "Sensitivity: 0.0\n",
      "Specificity: 1.0\n",
      "Accuracy: 0.6898326898326899\n",
      "Precision: nan\n",
      "F1 Score: nan\n",
      "False Positive Rate: 0.0\n",
      "False Negative Rate: 1.0\n"
     ]
    },
    {
     "name": "stderr",
     "output_type": "stream",
     "text": [
      "/tmp/ipykernel_526/2919425270.py:7: RuntimeWarning: invalid value encountered in scalar divide\n",
      "  precision = tp / (tp + fp)\n"
     ]
    }
   ],
   "source": [
    "tn, fp, fn, tp = confusion_matrix(results_test[\"preictal_true\"], results_test[\"preictal_pred\"]).ravel()\n",
    "\n",
    "# Calcular las métricas\n",
    "sensitivity = tp / (tp + fn)\n",
    "specificity = tn / (tn + fp)\n",
    "accuracy = (tp + tn) / (tp + tn + fp + fn)\n",
    "precision = tp / (tp + fp)\n",
    "f1_score = 2 * (precision * sensitivity) / (precision + sensitivity)\n",
    "fpr = fp / (fp + tn)\n",
    "fnr = fn / (fn + tp)\n",
    "\n",
    "print(f\"Sensitivity: {sensitivity}\")\n",
    "print(f\"Specificity: {specificity}\")\n",
    "print(f\"Accuracy: {accuracy}\")\n",
    "print(f\"Precision: {precision}\")\n",
    "print(f\"F1 Score: {f1_score}\")\n",
    "print(f\"False Positive Rate: {fpr}\")\n",
    "print(f\"False Negative Rate: {fnr}\")"
   ]
  },
  {
   "cell_type": "markdown",
   "id": "16ed59e6-b6f0-4b77-b8d3-3f5594258aeb",
   "metadata": {},
   "source": [
    "# Log MLflow"
   ]
  },
  {
   "cell_type": "code",
   "execution_count": 48,
   "id": "e235cd83-775f-4646-ba57-712bfa563f5c",
   "metadata": {
    "tags": []
   },
   "outputs": [],
   "source": [
    "mlflow.end_run()"
   ]
  },
  {
   "cell_type": "code",
   "execution_count": 51,
   "id": "b615cfe4-0b9a-486c-a418-8be4dcc22331",
   "metadata": {},
   "outputs": [
    {
     "name": "stderr",
     "output_type": "stream",
     "text": [
      "2024/07/27 18:17:44 WARNING mlflow.tensorflow: You are saving a TensorFlow Core model or Keras model without a signature. Inference with mlflow.pyfunc.spark_udf() will not work unless the model's pyfunc representation accepts pandas DataFrames as inference inputs.\n",
      "WARNING:absl:Found untraced functions such as _jit_compiled_convolution_op, _jit_compiled_convolution_op, _jit_compiled_convolution_op, _update_step_xla while saving (showing 4 of 4). These functions will not be directly callable after loading.\n"
     ]
    },
    {
     "name": "stdout",
     "output_type": "stream",
     "text": [
      "INFO:tensorflow:Assets written to: /tmp/tmp1_sp4p2k/model/data/model/assets\n"
     ]
    },
    {
     "name": "stderr",
     "output_type": "stream",
     "text": [
      "INFO:tensorflow:Assets written to: /tmp/tmp1_sp4p2k/model/data/model/assets\n",
      "2024/07/27 18:17:50 WARNING mlflow.models.model: Model logged without a signature. Signatures will be required for upcoming model registry features as they validate model inputs and denote the expected schema of model outputs. Please visit https://www.mlflow.org/docs/2.14.3/models.html#set-signature-on-logged-model for instructions on setting a model signature on your logged model.\n"
     ]
    },
    {
     "data": {
      "application/vnd.jupyter.widget-view+json": {
       "model_id": "978685a4f64049a6b41fed441b5f5024",
       "version_major": 2,
       "version_minor": 0
      },
      "text/plain": [
       "Uploading artifacts:   0%|          | 0/11 [00:00<?, ?it/s]"
      ]
     },
     "metadata": {},
     "output_type": "display_data"
    }
   ],
   "source": [
    "import mlflow\n",
    "import mlflow.keras\n",
    "\n",
    "mlflow.set_tracking_uri(\"databricks\")\n",
    "mlflow.set_experiment(\"/Users/mnsosa@mi.unc.edu.ar/seizure-prediction\")\n",
    "\n",
    "with mlflow.start_run(run_name=RUN_NAME) as run:\n",
    "    mlflow.log_param(\"batch_size\", batch_size)\n",
    "    mlflow.log_param(\"class_weights\", class_weights)\n",
    "    mlflow.log_param(\"scaler\", \"StandardScaler\")\n",
    "    mlflow.log_param(\"n_classes_train\", n_classes_train)\n",
    "\n",
    "    mlflow.log_metric(\"train_accuracy\", history.history['accuracy'][-1])\n",
    "    mlflow.log_metric(\"val_accuracy\", history.history['val_accuracy'][-1])\n",
    "    mlflow.log_metric(\"train_loss\", history.history['loss'][-1])\n",
    "    mlflow.log_metric(\"val_loss\", history.history['val_loss'][-1])\n",
    "    \n",
    "    mlflow.log_metric(\"sensitivity\", sensitivity)\n",
    "    mlflow.log_metric(\"specificity\", specificity)\n",
    "    mlflow.log_metric.log_metric(\"precision\", precision)\n",
    "    mlflow.log_metric(\"F1 Score\", f1_score)\n",
    "    mlflow.log_metric(\"False Positive Rate\", fpr)\n",
    "    mlflow.log_metric(\"False Negative Rate\", fnr)\n",
    "\n",
    "\n",
    "    mlflow.log_artifact(\"cm_1.jpg\")\n",
    "    mlflow.log_artifact(\"cm_bin.jpg\")\n",
    "\n",
    "\n",
    "    mlflow.keras.log_model(model, \"model\")\n"
   ]
  }
 ],
 "metadata": {
  "kernelspec": {
   "display_name": ".conda-default:Python",
   "language": "python",
   "name": "conda-env-.conda-default-py"
  },
  "language_info": {
   "codemirror_mode": {
    "name": "ipython",
    "version": 3
   },
   "file_extension": ".py",
   "mimetype": "text/x-python",
   "name": "python",
   "nbconvert_exporter": "python",
   "pygments_lexer": "ipython3",
   "version": "3.9.19"
  }
 },
 "nbformat": 4,
 "nbformat_minor": 5
}
